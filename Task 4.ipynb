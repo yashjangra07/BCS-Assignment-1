{
 "cells": [
  {
   "cell_type": "code",
   "execution_count": 1,
   "id": "d4071a10-8174-45d5-b4fe-910109d92df8",
   "metadata": {},
   "outputs": [],
   "source": [
    "import torch\n",
    "import torch.nn as nn\n",
    "import torch.nn.functional as F\n",
    "\n",
    "class DQNPolicy(nn.Module):\n",
    "    def __init__(self, observation_dim, action_dim):\n",
    "        super(DQNPolicy, self).__init__()\n",
    "        self.fc1 = nn.Linear(observation_dim, 128)\n",
    "        self.fc2 = nn.Linear(128, 128)\n",
    "        self.fc3 = nn.Linear(128, action_dim)\n",
    "        \n",
    "    def forward(self, x):\n",
    "        x = F.relu(self.fc1(x))\n",
    "        x = F.relu(self.fc2(x))\n",
    "        return self.fc3(x)\n",
    "\n",
    "class DQNTarget(nn.Module):\n",
    "    def __init__(self, observation_dim, action_dim):\n",
    "        super(DQNTarget, self).__init__()\n",
    "        self.fc1 = nn.Linear(observation_dim, 128)\n",
    "        self.fc2 = nn.Linear(128, 128)\n",
    "        self.fc3 = nn.Linear(128, action_dim)\n",
    "        \n",
    "    def forward(self, x):\n",
    "        x = F.relu(self.fc1(x))\n",
    "        x = F.relu(self.fc2(x))\n",
    "        return self.fc3(x)\n",
    "\n",
    "def update_target(policy_net, target_net):\n",
    "    target_net.load_state_dict(policy_net.state_dict())\n"
   ]
  },
  {
   "cell_type": "code",
   "execution_count": 7,
   "id": "1938ff17-de7b-4d06-8e02-5aa6aa39c8c9",
   "metadata": {},
   "outputs": [
    {
     "ename": "AttributeError",
     "evalue": "'DQNPolicy' object has no attribute 'fc1'",
     "output_type": "error",
     "traceback": [
      "\u001b[1;31m---------------------------------------------------------------------------\u001b[0m",
      "\u001b[1;31mAttributeError\u001b[0m                            Traceback (most recent call last)",
      "Cell \u001b[1;32mIn[7], line 10\u001b[0m\n\u001b[0;32m      5\u001b[0m policy_net \u001b[38;5;241m=\u001b[39m DQNPolicy(obs_dim, action_dim)\n\u001b[0;32m      6\u001b[0m target_net \u001b[38;5;241m=\u001b[39m DQNTarget(obs_dim, action_dim)\n\u001b[0;32m      9\u001b[0m \u001b[38;5;28mprint\u001b[39m(\u001b[38;5;124m\"\u001b[39m\u001b[38;5;124mInitial weight difference:\u001b[39m\u001b[38;5;124m\"\u001b[39m, \n\u001b[1;32m---> 10\u001b[0m       torch\u001b[38;5;241m.\u001b[39msum(policy_net\u001b[38;5;241m.\u001b[39mfc1\u001b[38;5;241m.\u001b[39mweight \u001b[38;5;241m-\u001b[39m target_net\u001b[38;5;241m.\u001b[39mfc1\u001b[38;5;241m.\u001b[39mweight))\n\u001b[0;32m     13\u001b[0m update_target(policy_net, target_net)\n\u001b[0;32m     16\u001b[0m \u001b[38;5;28mprint\u001b[39m(\u001b[38;5;124m\"\u001b[39m\u001b[38;5;124mPost-update weight difference:\u001b[39m\u001b[38;5;124m\"\u001b[39m, \n\u001b[0;32m     17\u001b[0m       torch\u001b[38;5;241m.\u001b[39msum(policy_net\u001b[38;5;241m.\u001b[39mfc1\u001b[38;5;241m.\u001b[39mweight \u001b[38;5;241m-\u001b[39m target_net\u001b[38;5;241m.\u001b[39mfc1\u001b[38;5;241m.\u001b[39mweight))\n",
      "File \u001b[1;32m~\\anaconda3\\Lib\\site-packages\\torch\\nn\\modules\\module.py:1940\u001b[0m, in \u001b[0;36mModule.__getattr__\u001b[1;34m(self, name)\u001b[0m\n\u001b[0;32m   1938\u001b[0m     \u001b[38;5;28;01mif\u001b[39;00m name \u001b[38;5;129;01min\u001b[39;00m modules:\n\u001b[0;32m   1939\u001b[0m         \u001b[38;5;28;01mreturn\u001b[39;00m modules[name]\n\u001b[1;32m-> 1940\u001b[0m \u001b[38;5;28;01mraise\u001b[39;00m \u001b[38;5;167;01mAttributeError\u001b[39;00m(\n\u001b[0;32m   1941\u001b[0m     \u001b[38;5;124mf\u001b[39m\u001b[38;5;124m\"\u001b[39m\u001b[38;5;124m'\u001b[39m\u001b[38;5;132;01m{\u001b[39;00m\u001b[38;5;28mtype\u001b[39m(\u001b[38;5;28mself\u001b[39m)\u001b[38;5;241m.\u001b[39m\u001b[38;5;18m__name__\u001b[39m\u001b[38;5;132;01m}\u001b[39;00m\u001b[38;5;124m'\u001b[39m\u001b[38;5;124m object has no attribute \u001b[39m\u001b[38;5;124m'\u001b[39m\u001b[38;5;132;01m{\u001b[39;00mname\u001b[38;5;132;01m}\u001b[39;00m\u001b[38;5;124m'\u001b[39m\u001b[38;5;124m\"\u001b[39m\n\u001b[0;32m   1942\u001b[0m )\n",
      "\u001b[1;31mAttributeError\u001b[0m: 'DQNPolicy' object has no attribute 'fc1'"
     ]
    }
   ],
   "source": [
    "\n",
    "obs_dim = 4  \n",
    "action_dim = 2  \n",
    "\n",
    "\n",
    "policy_net = DQNPolicy(obs_dim, action_dim)\n",
    "target_net = DQNTarget(obs_dim, action_dim)\n",
    "\n",
    "\n",
    "print(\"Initial weight difference:\", \n",
    "      torch.sum(policy_net.fc1.weight - target_net.fc1.weight))\n",
    "\n",
    "\n",
    "update_target(policy_net, target_net)\n",
    "\n",
    "\n",
    "print(\"Post-update weight difference:\", \n",
    "      torch.sum(policy_net.fc1.weight - target_net.fc1.weight))\n"
   ]
  },
  {
   "cell_type": "code",
   "execution_count": null,
   "id": "9651274a-2040-43d6-be4b-f3743ea68183",
   "metadata": {},
   "outputs": [],
   "source": []
  }
 ],
 "metadata": {
  "kernelspec": {
   "display_name": "Python 3 (ipykernel)",
   "language": "python",
   "name": "python3"
  },
  "language_info": {
   "codemirror_mode": {
    "name": "ipython",
    "version": 3
   },
   "file_extension": ".py",
   "mimetype": "text/x-python",
   "name": "python",
   "nbconvert_exporter": "python",
   "pygments_lexer": "ipython3",
   "version": "3.12.7"
  }
 },
 "nbformat": 4,
 "nbformat_minor": 5
}
